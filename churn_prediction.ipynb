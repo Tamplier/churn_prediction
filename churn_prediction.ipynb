{
 "cells": [
  {
   "cell_type": "code",
   "execution_count": 1,
   "metadata": {},
   "outputs": [],
   "source": [
    "import numpy as np\n",
    "import pandas as pd\n",
    "import matplotlib.pyplot as plt\n",
    "import datetime\n",
    "import seaborn as sns\n",
    "%matplotlib inline"
   ]
  },
  {
   "cell_type": "code",
   "execution_count": 2,
   "metadata": {},
   "outputs": [],
   "source": [
    "df_history = pd.read_csv(\"history.csv\", parse_dates=[\"pay_date\", \"start_date\", \"expiration_date\", \"on_date\"])\n",
    "df_test = pd.read_csv(\"test.csv\", parse_dates=[\"on_date\"])\n",
    "df_users = pd.read_csv(\"users.csv\", parse_dates=[\"regdate\"])"
   ]
  },
  {
   "cell_type": "code",
   "execution_count": 3,
   "metadata": {},
   "outputs": [
    {
     "data": {
      "text/plain": [
       "(14529, 9)"
      ]
     },
     "execution_count": 3,
     "metadata": {},
     "output_type": "execute_result"
    }
   ],
   "source": [
    "df_history.shape"
   ]
  },
  {
   "cell_type": "code",
   "execution_count": 4,
   "metadata": {},
   "outputs": [
    {
     "data": {
      "text/plain": [
       "user_id                     int64\n",
       "service_id                  int64\n",
       "nth_renewal                 int64\n",
       "pay_date           datetime64[ns]\n",
       "start_date         datetime64[ns]\n",
       "expiration_date    datetime64[ns]\n",
       "amount                      int64\n",
       "on_date            datetime64[ns]\n",
       "churn                     float64\n",
       "dtype: object"
      ]
     },
     "execution_count": 4,
     "metadata": {},
     "output_type": "execute_result"
    }
   ],
   "source": [
    "df_history.dtypes"
   ]
  },
  {
   "cell_type": "code",
   "execution_count": 5,
   "metadata": {},
   "outputs": [
    {
     "data": {
      "text/html": [
       "<div>\n",
       "<style scoped>\n",
       "    .dataframe tbody tr th:only-of-type {\n",
       "        vertical-align: middle;\n",
       "    }\n",
       "\n",
       "    .dataframe tbody tr th {\n",
       "        vertical-align: top;\n",
       "    }\n",
       "\n",
       "    .dataframe thead th {\n",
       "        text-align: right;\n",
       "    }\n",
       "</style>\n",
       "<table border=\"1\" class=\"dataframe\">\n",
       "  <thead>\n",
       "    <tr style=\"text-align: right;\">\n",
       "      <th></th>\n",
       "      <th>user_id</th>\n",
       "      <th>service_id</th>\n",
       "      <th>nth_renewal</th>\n",
       "      <th>pay_date</th>\n",
       "      <th>start_date</th>\n",
       "      <th>expiration_date</th>\n",
       "      <th>amount</th>\n",
       "      <th>on_date</th>\n",
       "      <th>churn</th>\n",
       "    </tr>\n",
       "  </thead>\n",
       "  <tbody>\n",
       "    <tr>\n",
       "      <th>count</th>\n",
       "      <td>14529.000000</td>\n",
       "      <td>14529.000000</td>\n",
       "      <td>14529.000000</td>\n",
       "      <td>14529</td>\n",
       "      <td>14529</td>\n",
       "      <td>14529</td>\n",
       "      <td>14529.000000</td>\n",
       "      <td>14529</td>\n",
       "      <td>12653.000000</td>\n",
       "    </tr>\n",
       "    <tr>\n",
       "      <th>unique</th>\n",
       "      <td>NaN</td>\n",
       "      <td>NaN</td>\n",
       "      <td>NaN</td>\n",
       "      <td>371</td>\n",
       "      <td>371</td>\n",
       "      <td>369</td>\n",
       "      <td>NaN</td>\n",
       "      <td>369</td>\n",
       "      <td>NaN</td>\n",
       "    </tr>\n",
       "    <tr>\n",
       "      <th>top</th>\n",
       "      <td>NaN</td>\n",
       "      <td>NaN</td>\n",
       "      <td>NaN</td>\n",
       "      <td>2019-02-26 00:00:00</td>\n",
       "      <td>2019-02-28 00:00:00</td>\n",
       "      <td>2019-02-28 00:00:00</td>\n",
       "      <td>NaN</td>\n",
       "      <td>2019-02-14 00:00:00</td>\n",
       "      <td>NaN</td>\n",
       "    </tr>\n",
       "    <tr>\n",
       "      <th>freq</th>\n",
       "      <td>NaN</td>\n",
       "      <td>NaN</td>\n",
       "      <td>NaN</td>\n",
       "      <td>100</td>\n",
       "      <td>129</td>\n",
       "      <td>183</td>\n",
       "      <td>NaN</td>\n",
       "      <td>183</td>\n",
       "      <td>NaN</td>\n",
       "    </tr>\n",
       "    <tr>\n",
       "      <th>first</th>\n",
       "      <td>NaN</td>\n",
       "      <td>NaN</td>\n",
       "      <td>NaN</td>\n",
       "      <td>2018-05-09 00:00:00</td>\n",
       "      <td>2018-05-09 00:00:00</td>\n",
       "      <td>2018-06-09 00:00:00</td>\n",
       "      <td>NaN</td>\n",
       "      <td>2018-05-26 00:00:00</td>\n",
       "      <td>NaN</td>\n",
       "    </tr>\n",
       "    <tr>\n",
       "      <th>last</th>\n",
       "      <td>NaN</td>\n",
       "      <td>NaN</td>\n",
       "      <td>NaN</td>\n",
       "      <td>2019-05-14 00:00:00</td>\n",
       "      <td>2019-05-14 00:00:00</td>\n",
       "      <td>2019-06-14 00:00:00</td>\n",
       "      <td>NaN</td>\n",
       "      <td>2019-05-31 00:00:00</td>\n",
       "      <td>NaN</td>\n",
       "    </tr>\n",
       "    <tr>\n",
       "      <th>mean</th>\n",
       "      <td>2157.243582</td>\n",
       "      <td>3160.202285</td>\n",
       "      <td>1.485512</td>\n",
       "      <td>NaN</td>\n",
       "      <td>NaN</td>\n",
       "      <td>NaN</td>\n",
       "      <td>1.618969</td>\n",
       "      <td>NaN</td>\n",
       "      <td>0.363866</td>\n",
       "    </tr>\n",
       "    <tr>\n",
       "      <th>std</th>\n",
       "      <td>1414.404575</td>\n",
       "      <td>1981.868661</td>\n",
       "      <td>2.144607</td>\n",
       "      <td>NaN</td>\n",
       "      <td>NaN</td>\n",
       "      <td>NaN</td>\n",
       "      <td>1.603072</td>\n",
       "      <td>NaN</td>\n",
       "      <td>0.481130</td>\n",
       "    </tr>\n",
       "    <tr>\n",
       "      <th>min</th>\n",
       "      <td>0.000000</td>\n",
       "      <td>0.000000</td>\n",
       "      <td>0.000000</td>\n",
       "      <td>NaN</td>\n",
       "      <td>NaN</td>\n",
       "      <td>NaN</td>\n",
       "      <td>1.000000</td>\n",
       "      <td>NaN</td>\n",
       "      <td>0.000000</td>\n",
       "    </tr>\n",
       "    <tr>\n",
       "      <th>25%</th>\n",
       "      <td>980.000000</td>\n",
       "      <td>1443.000000</td>\n",
       "      <td>0.000000</td>\n",
       "      <td>NaN</td>\n",
       "      <td>NaN</td>\n",
       "      <td>NaN</td>\n",
       "      <td>1.000000</td>\n",
       "      <td>NaN</td>\n",
       "      <td>0.000000</td>\n",
       "    </tr>\n",
       "    <tr>\n",
       "      <th>50%</th>\n",
       "      <td>1963.000000</td>\n",
       "      <td>2999.000000</td>\n",
       "      <td>0.000000</td>\n",
       "      <td>NaN</td>\n",
       "      <td>NaN</td>\n",
       "      <td>NaN</td>\n",
       "      <td>1.000000</td>\n",
       "      <td>NaN</td>\n",
       "      <td>0.000000</td>\n",
       "    </tr>\n",
       "    <tr>\n",
       "      <th>75%</th>\n",
       "      <td>3232.000000</td>\n",
       "      <td>4692.000000</td>\n",
       "      <td>2.000000</td>\n",
       "      <td>NaN</td>\n",
       "      <td>NaN</td>\n",
       "      <td>NaN</td>\n",
       "      <td>1.000000</td>\n",
       "      <td>NaN</td>\n",
       "      <td>1.000000</td>\n",
       "    </tr>\n",
       "    <tr>\n",
       "      <th>max</th>\n",
       "      <td>5274.000000</td>\n",
       "      <td>7327.000000</td>\n",
       "      <td>11.000000</td>\n",
       "      <td>NaN</td>\n",
       "      <td>NaN</td>\n",
       "      <td>NaN</td>\n",
       "      <td>12.000000</td>\n",
       "      <td>NaN</td>\n",
       "      <td>1.000000</td>\n",
       "    </tr>\n",
       "  </tbody>\n",
       "</table>\n",
       "</div>"
      ],
      "text/plain": [
       "             user_id    service_id   nth_renewal             pay_date  \\\n",
       "count   14529.000000  14529.000000  14529.000000                14529   \n",
       "unique           NaN           NaN           NaN                  371   \n",
       "top              NaN           NaN           NaN  2019-02-26 00:00:00   \n",
       "freq             NaN           NaN           NaN                  100   \n",
       "first            NaN           NaN           NaN  2018-05-09 00:00:00   \n",
       "last             NaN           NaN           NaN  2019-05-14 00:00:00   \n",
       "mean     2157.243582   3160.202285      1.485512                  NaN   \n",
       "std      1414.404575   1981.868661      2.144607                  NaN   \n",
       "min         0.000000      0.000000      0.000000                  NaN   \n",
       "25%       980.000000   1443.000000      0.000000                  NaN   \n",
       "50%      1963.000000   2999.000000      0.000000                  NaN   \n",
       "75%      3232.000000   4692.000000      2.000000                  NaN   \n",
       "max      5274.000000   7327.000000     11.000000                  NaN   \n",
       "\n",
       "                 start_date      expiration_date        amount  \\\n",
       "count                 14529                14529  14529.000000   \n",
       "unique                  371                  369           NaN   \n",
       "top     2019-02-28 00:00:00  2019-02-28 00:00:00           NaN   \n",
       "freq                    129                  183           NaN   \n",
       "first   2018-05-09 00:00:00  2018-06-09 00:00:00           NaN   \n",
       "last    2019-05-14 00:00:00  2019-06-14 00:00:00           NaN   \n",
       "mean                    NaN                  NaN      1.618969   \n",
       "std                     NaN                  NaN      1.603072   \n",
       "min                     NaN                  NaN      1.000000   \n",
       "25%                     NaN                  NaN      1.000000   \n",
       "50%                     NaN                  NaN      1.000000   \n",
       "75%                     NaN                  NaN      1.000000   \n",
       "max                     NaN                  NaN     12.000000   \n",
       "\n",
       "                    on_date         churn  \n",
       "count                 14529  12653.000000  \n",
       "unique                  369           NaN  \n",
       "top     2019-02-14 00:00:00           NaN  \n",
       "freq                    183           NaN  \n",
       "first   2018-05-26 00:00:00           NaN  \n",
       "last    2019-05-31 00:00:00           NaN  \n",
       "mean                    NaN      0.363866  \n",
       "std                     NaN      0.481130  \n",
       "min                     NaN      0.000000  \n",
       "25%                     NaN      0.000000  \n",
       "50%                     NaN      0.000000  \n",
       "75%                     NaN      1.000000  \n",
       "max                     NaN      1.000000  "
      ]
     },
     "execution_count": 5,
     "metadata": {},
     "output_type": "execute_result"
    }
   ],
   "source": [
    "df_history.describe(include='all')"
   ]
  },
  {
   "cell_type": "code",
   "execution_count": 6,
   "metadata": {},
   "outputs": [
    {
     "data": {
      "text/plain": [
       "(5275, 2)"
      ]
     },
     "execution_count": 6,
     "metadata": {},
     "output_type": "execute_result"
    }
   ],
   "source": [
    "df_users.shape"
   ]
  },
  {
   "cell_type": "code",
   "execution_count": 7,
   "metadata": {},
   "outputs": [],
   "source": [
    "df_history['regdate'] = df_history.user_id.map(df_users.set_index('user_id')['regdate'].to_dict())"
   ]
  },
  {
   "cell_type": "code",
   "execution_count": 8,
   "metadata": {},
   "outputs": [
    {
     "data": {
      "text/html": [
       "<div>\n",
       "<style scoped>\n",
       "    .dataframe tbody tr th:only-of-type {\n",
       "        vertical-align: middle;\n",
       "    }\n",
       "\n",
       "    .dataframe tbody tr th {\n",
       "        vertical-align: top;\n",
       "    }\n",
       "\n",
       "    .dataframe thead th {\n",
       "        text-align: right;\n",
       "    }\n",
       "</style>\n",
       "<table border=\"1\" class=\"dataframe\">\n",
       "  <thead>\n",
       "    <tr style=\"text-align: right;\">\n",
       "      <th></th>\n",
       "      <th>user_id</th>\n",
       "      <th>service_id</th>\n",
       "      <th>nth_renewal</th>\n",
       "      <th>pay_date</th>\n",
       "      <th>start_date</th>\n",
       "      <th>expiration_date</th>\n",
       "      <th>amount</th>\n",
       "      <th>on_date</th>\n",
       "      <th>churn</th>\n",
       "      <th>regdate</th>\n",
       "    </tr>\n",
       "  </thead>\n",
       "  <tbody>\n",
       "    <tr>\n",
       "      <th>count</th>\n",
       "      <td>14529.000000</td>\n",
       "      <td>14529.000000</td>\n",
       "      <td>14529.000000</td>\n",
       "      <td>14529</td>\n",
       "      <td>14529</td>\n",
       "      <td>14529</td>\n",
       "      <td>14529.000000</td>\n",
       "      <td>14529</td>\n",
       "      <td>12653.000000</td>\n",
       "      <td>14529</td>\n",
       "    </tr>\n",
       "    <tr>\n",
       "      <th>unique</th>\n",
       "      <td>NaN</td>\n",
       "      <td>NaN</td>\n",
       "      <td>NaN</td>\n",
       "      <td>371</td>\n",
       "      <td>371</td>\n",
       "      <td>369</td>\n",
       "      <td>NaN</td>\n",
       "      <td>369</td>\n",
       "      <td>NaN</td>\n",
       "      <td>1486</td>\n",
       "    </tr>\n",
       "    <tr>\n",
       "      <th>top</th>\n",
       "      <td>NaN</td>\n",
       "      <td>NaN</td>\n",
       "      <td>NaN</td>\n",
       "      <td>2019-02-26 00:00:00</td>\n",
       "      <td>2019-02-28 00:00:00</td>\n",
       "      <td>2019-02-28 00:00:00</td>\n",
       "      <td>NaN</td>\n",
       "      <td>2019-02-14 00:00:00</td>\n",
       "      <td>NaN</td>\n",
       "      <td>2016-12-04 00:00:00</td>\n",
       "    </tr>\n",
       "    <tr>\n",
       "      <th>freq</th>\n",
       "      <td>NaN</td>\n",
       "      <td>NaN</td>\n",
       "      <td>NaN</td>\n",
       "      <td>100</td>\n",
       "      <td>129</td>\n",
       "      <td>183</td>\n",
       "      <td>NaN</td>\n",
       "      <td>183</td>\n",
       "      <td>NaN</td>\n",
       "      <td>238</td>\n",
       "    </tr>\n",
       "    <tr>\n",
       "      <th>first</th>\n",
       "      <td>NaN</td>\n",
       "      <td>NaN</td>\n",
       "      <td>NaN</td>\n",
       "      <td>2018-05-09 00:00:00</td>\n",
       "      <td>2018-05-09 00:00:00</td>\n",
       "      <td>2018-06-09 00:00:00</td>\n",
       "      <td>NaN</td>\n",
       "      <td>2018-05-26 00:00:00</td>\n",
       "      <td>NaN</td>\n",
       "      <td>2007-11-30 00:00:00</td>\n",
       "    </tr>\n",
       "    <tr>\n",
       "      <th>last</th>\n",
       "      <td>NaN</td>\n",
       "      <td>NaN</td>\n",
       "      <td>NaN</td>\n",
       "      <td>2019-05-14 00:00:00</td>\n",
       "      <td>2019-05-14 00:00:00</td>\n",
       "      <td>2019-06-14 00:00:00</td>\n",
       "      <td>NaN</td>\n",
       "      <td>2019-05-31 00:00:00</td>\n",
       "      <td>NaN</td>\n",
       "      <td>2019-05-14 00:00:00</td>\n",
       "    </tr>\n",
       "    <tr>\n",
       "      <th>mean</th>\n",
       "      <td>2157.243582</td>\n",
       "      <td>3160.202285</td>\n",
       "      <td>1.485512</td>\n",
       "      <td>NaN</td>\n",
       "      <td>NaN</td>\n",
       "      <td>NaN</td>\n",
       "      <td>1.618969</td>\n",
       "      <td>NaN</td>\n",
       "      <td>0.363866</td>\n",
       "      <td>NaN</td>\n",
       "    </tr>\n",
       "    <tr>\n",
       "      <th>std</th>\n",
       "      <td>1414.404575</td>\n",
       "      <td>1981.868661</td>\n",
       "      <td>2.144607</td>\n",
       "      <td>NaN</td>\n",
       "      <td>NaN</td>\n",
       "      <td>NaN</td>\n",
       "      <td>1.603072</td>\n",
       "      <td>NaN</td>\n",
       "      <td>0.481130</td>\n",
       "      <td>NaN</td>\n",
       "    </tr>\n",
       "    <tr>\n",
       "      <th>min</th>\n",
       "      <td>0.000000</td>\n",
       "      <td>0.000000</td>\n",
       "      <td>0.000000</td>\n",
       "      <td>NaN</td>\n",
       "      <td>NaN</td>\n",
       "      <td>NaN</td>\n",
       "      <td>1.000000</td>\n",
       "      <td>NaN</td>\n",
       "      <td>0.000000</td>\n",
       "      <td>NaN</td>\n",
       "    </tr>\n",
       "    <tr>\n",
       "      <th>25%</th>\n",
       "      <td>980.000000</td>\n",
       "      <td>1443.000000</td>\n",
       "      <td>0.000000</td>\n",
       "      <td>NaN</td>\n",
       "      <td>NaN</td>\n",
       "      <td>NaN</td>\n",
       "      <td>1.000000</td>\n",
       "      <td>NaN</td>\n",
       "      <td>0.000000</td>\n",
       "      <td>NaN</td>\n",
       "    </tr>\n",
       "    <tr>\n",
       "      <th>50%</th>\n",
       "      <td>1963.000000</td>\n",
       "      <td>2999.000000</td>\n",
       "      <td>0.000000</td>\n",
       "      <td>NaN</td>\n",
       "      <td>NaN</td>\n",
       "      <td>NaN</td>\n",
       "      <td>1.000000</td>\n",
       "      <td>NaN</td>\n",
       "      <td>0.000000</td>\n",
       "      <td>NaN</td>\n",
       "    </tr>\n",
       "    <tr>\n",
       "      <th>75%</th>\n",
       "      <td>3232.000000</td>\n",
       "      <td>4692.000000</td>\n",
       "      <td>2.000000</td>\n",
       "      <td>NaN</td>\n",
       "      <td>NaN</td>\n",
       "      <td>NaN</td>\n",
       "      <td>1.000000</td>\n",
       "      <td>NaN</td>\n",
       "      <td>1.000000</td>\n",
       "      <td>NaN</td>\n",
       "    </tr>\n",
       "    <tr>\n",
       "      <th>max</th>\n",
       "      <td>5274.000000</td>\n",
       "      <td>7327.000000</td>\n",
       "      <td>11.000000</td>\n",
       "      <td>NaN</td>\n",
       "      <td>NaN</td>\n",
       "      <td>NaN</td>\n",
       "      <td>12.000000</td>\n",
       "      <td>NaN</td>\n",
       "      <td>1.000000</td>\n",
       "      <td>NaN</td>\n",
       "    </tr>\n",
       "  </tbody>\n",
       "</table>\n",
       "</div>"
      ],
      "text/plain": [
       "             user_id    service_id   nth_renewal             pay_date  \\\n",
       "count   14529.000000  14529.000000  14529.000000                14529   \n",
       "unique           NaN           NaN           NaN                  371   \n",
       "top              NaN           NaN           NaN  2019-02-26 00:00:00   \n",
       "freq             NaN           NaN           NaN                  100   \n",
       "first            NaN           NaN           NaN  2018-05-09 00:00:00   \n",
       "last             NaN           NaN           NaN  2019-05-14 00:00:00   \n",
       "mean     2157.243582   3160.202285      1.485512                  NaN   \n",
       "std      1414.404575   1981.868661      2.144607                  NaN   \n",
       "min         0.000000      0.000000      0.000000                  NaN   \n",
       "25%       980.000000   1443.000000      0.000000                  NaN   \n",
       "50%      1963.000000   2999.000000      0.000000                  NaN   \n",
       "75%      3232.000000   4692.000000      2.000000                  NaN   \n",
       "max      5274.000000   7327.000000     11.000000                  NaN   \n",
       "\n",
       "                 start_date      expiration_date        amount  \\\n",
       "count                 14529                14529  14529.000000   \n",
       "unique                  371                  369           NaN   \n",
       "top     2019-02-28 00:00:00  2019-02-28 00:00:00           NaN   \n",
       "freq                    129                  183           NaN   \n",
       "first   2018-05-09 00:00:00  2018-06-09 00:00:00           NaN   \n",
       "last    2019-05-14 00:00:00  2019-06-14 00:00:00           NaN   \n",
       "mean                    NaN                  NaN      1.618969   \n",
       "std                     NaN                  NaN      1.603072   \n",
       "min                     NaN                  NaN      1.000000   \n",
       "25%                     NaN                  NaN      1.000000   \n",
       "50%                     NaN                  NaN      1.000000   \n",
       "75%                     NaN                  NaN      1.000000   \n",
       "max                     NaN                  NaN     12.000000   \n",
       "\n",
       "                    on_date         churn              regdate  \n",
       "count                 14529  12653.000000                14529  \n",
       "unique                  369           NaN                 1486  \n",
       "top     2019-02-14 00:00:00           NaN  2016-12-04 00:00:00  \n",
       "freq                    183           NaN                  238  \n",
       "first   2018-05-26 00:00:00           NaN  2007-11-30 00:00:00  \n",
       "last    2019-05-31 00:00:00           NaN  2019-05-14 00:00:00  \n",
       "mean                    NaN      0.363866                  NaN  \n",
       "std                     NaN      0.481130                  NaN  \n",
       "min                     NaN      0.000000                  NaN  \n",
       "25%                     NaN      0.000000                  NaN  \n",
       "50%                     NaN      0.000000                  NaN  \n",
       "75%                     NaN      1.000000                  NaN  \n",
       "max                     NaN      1.000000                  NaN  "
      ]
     },
     "execution_count": 8,
     "metadata": {},
     "output_type": "execute_result"
    }
   ],
   "source": [
    "df_history.describe(include='all')"
   ]
  },
  {
   "cell_type": "code",
   "execution_count": 9,
   "metadata": {},
   "outputs": [],
   "source": [
    "del df_users"
   ]
  },
  {
   "cell_type": "code",
   "execution_count": 10,
   "metadata": {},
   "outputs": [],
   "source": [
    "df_history[\"test\"] = df_history[\"churn\"].isnull()"
   ]
  },
  {
   "cell_type": "code",
   "execution_count": 11,
   "metadata": {},
   "outputs": [
    {
     "data": {
      "text/plain": [
       "<matplotlib.axes._subplots.AxesSubplot at 0x2255b739da0>"
      ]
     },
     "execution_count": 11,
     "metadata": {},
     "output_type": "execute_result"
    },
    {
     "data": {
      "image/png": "[encoded data removed]",
      "text/plain": [
       "<Figure size 432x288 with 1 Axes>"
      ]
     },
     "metadata": {
      "needs_background": "light"
     },
     "output_type": "display_data"
    }
   ],
   "source": [
    "df_history[df_history.test == False].churn.value_counts().plot.bar()"
   ]
  },
  {
   "cell_type": "markdown",
   "metadata": {},
   "source": [
    "Есть перевес в сторону класса 0.0. Не слишком большой, но возможно имеет смысл отказаться от точности в пользу f1-score.\n",
    "\n",
    "На всякий случай выполним проверку дат. Начало действия услуги не должно быть после окончания, оплата после начала действия. Так же проверим, что on_date всегда за 14 дней до expiration_date."
   ]
  },
  {
   "cell_type": "code",
   "execution_count": 12,
   "metadata": {},
   "outputs": [
    {
     "name": "stdout",
     "output_type": "stream",
     "text": [
      "Start after expiration: 0\n",
      "Start before pay: 22\n",
      "Wrong delta between on date and expiration date: 0\n"
     ]
    }
   ],
   "source": [
    "start_aftert_exp = (df_history.start_date > df_history.expiration_date).sum()\n",
    "start_before_pay = (df_history.start_date < df_history.pay_date).sum()\n",
    "on_date_exp_date_wrong_delta = ((df_history.expiration_date - df_history.on_date) != pd.Timedelta('14 days')).sum()\n",
    "\n",
    "print(\"Start after expiration: {}\".format(start_aftert_exp))\n",
    "print(\"Start before pay: {}\".format(start_before_pay))\n",
    "print(\"Wrong delta between on date and expiration date: {}\".format(on_date_exp_date_wrong_delta))\n",
    "\n",
    "del start_aftert_exp\n",
    "del start_before_pay\n",
    "del on_date_exp_date_wrong_delta"
   ]
  },
  {
   "cell_type": "code",
   "execution_count": 13,
   "metadata": {},
   "outputs": [
    {
     "data": {
      "text/html": [
       "<div>\n",
       "<style scoped>\n",
       "    .dataframe tbody tr th:only-of-type {\n",
       "        vertical-align: middle;\n",
       "    }\n",
       "\n",
       "    .dataframe tbody tr th {\n",
       "        vertical-align: top;\n",
       "    }\n",
       "\n",
       "    .dataframe thead th {\n",
       "        text-align: right;\n",
       "    }\n",
       "</style>\n",
       "<table border=\"1\" class=\"dataframe\">\n",
       "  <thead>\n",
       "    <tr style=\"text-align: right;\">\n",
       "      <th></th>\n",
       "      <th>user_id</th>\n",
       "      <th>service_id</th>\n",
       "      <th>nth_renewal</th>\n",
       "      <th>pay_date</th>\n",
       "      <th>start_date</th>\n",
       "      <th>expiration_date</th>\n",
       "      <th>amount</th>\n",
       "      <th>on_date</th>\n",
       "      <th>churn</th>\n",
       "      <th>regdate</th>\n",
       "      <th>test</th>\n",
       "    </tr>\n",
       "  </thead>\n",
       "  <tbody>\n",
       "    <tr>\n",
       "      <th>25</th>\n",
       "      <td>111</td>\n",
       "      <td>130</td>\n",
       "      <td>0</td>\n",
       "      <td>2018-05-18</td>\n",
       "      <td>2018-05-17</td>\n",
       "      <td>2019-05-17</td>\n",
       "      <td>12</td>\n",
       "      <td>2019-05-03</td>\n",
       "      <td>NaN</td>\n",
       "      <td>2017-07-25</td>\n",
       "      <td>True</td>\n",
       "    </tr>\n",
       "    <tr>\n",
       "      <th>78</th>\n",
       "      <td>241</td>\n",
       "      <td>294</td>\n",
       "      <td>0</td>\n",
       "      <td>2018-06-22</td>\n",
       "      <td>2018-05-29</td>\n",
       "      <td>2019-05-29</td>\n",
       "      <td>12</td>\n",
       "      <td>2019-05-15</td>\n",
       "      <td>NaN</td>\n",
       "      <td>2015-05-12</td>\n",
       "      <td>True</td>\n",
       "    </tr>\n",
       "    <tr>\n",
       "      <th>79</th>\n",
       "      <td>241</td>\n",
       "      <td>295</td>\n",
       "      <td>0</td>\n",
       "      <td>2018-06-22</td>\n",
       "      <td>2018-05-29</td>\n",
       "      <td>2019-05-29</td>\n",
       "      <td>12</td>\n",
       "      <td>2019-05-15</td>\n",
       "      <td>NaN</td>\n",
       "      <td>2015-05-12</td>\n",
       "      <td>True</td>\n",
       "    </tr>\n",
       "    <tr>\n",
       "      <th>283</th>\n",
       "      <td>1035</td>\n",
       "      <td>1218</td>\n",
       "      <td>9</td>\n",
       "      <td>2019-05-03</td>\n",
       "      <td>2019-04-18</td>\n",
       "      <td>2019-05-18</td>\n",
       "      <td>1</td>\n",
       "      <td>2019-05-04</td>\n",
       "      <td>NaN</td>\n",
       "      <td>2012-01-30</td>\n",
       "      <td>True</td>\n",
       "    </tr>\n",
       "    <tr>\n",
       "      <th>562</th>\n",
       "      <td>2758</td>\n",
       "      <td>3566</td>\n",
       "      <td>6</td>\n",
       "      <td>2019-04-27</td>\n",
       "      <td>2019-04-22</td>\n",
       "      <td>2019-05-22</td>\n",
       "      <td>1</td>\n",
       "      <td>2019-05-08</td>\n",
       "      <td>NaN</td>\n",
       "      <td>2013-11-24</td>\n",
       "      <td>True</td>\n",
       "    </tr>\n",
       "    <tr>\n",
       "      <th>2129</th>\n",
       "      <td>126</td>\n",
       "      <td>145</td>\n",
       "      <td>4</td>\n",
       "      <td>2018-12-07</td>\n",
       "      <td>2018-11-22</td>\n",
       "      <td>2018-12-22</td>\n",
       "      <td>1</td>\n",
       "      <td>2018-12-08</td>\n",
       "      <td>0.0</td>\n",
       "      <td>2018-05-17</td>\n",
       "      <td>False</td>\n",
       "    </tr>\n",
       "    <tr>\n",
       "      <th>3316</th>\n",
       "      <td>616</td>\n",
       "      <td>738</td>\n",
       "      <td>4</td>\n",
       "      <td>2018-11-10</td>\n",
       "      <td>2018-10-10</td>\n",
       "      <td>2018-11-10</td>\n",
       "      <td>1</td>\n",
       "      <td>2018-10-27</td>\n",
       "      <td>0.0</td>\n",
       "      <td>2018-05-24</td>\n",
       "      <td>False</td>\n",
       "    </tr>\n",
       "    <tr>\n",
       "      <th>4605</th>\n",
       "      <td>1035</td>\n",
       "      <td>1218</td>\n",
       "      <td>5</td>\n",
       "      <td>2018-12-19</td>\n",
       "      <td>2018-12-01</td>\n",
       "      <td>2019-01-01</td>\n",
       "      <td>1</td>\n",
       "      <td>2018-12-18</td>\n",
       "      <td>0.0</td>\n",
       "      <td>2012-01-30</td>\n",
       "      <td>False</td>\n",
       "    </tr>\n",
       "    <tr>\n",
       "      <th>4606</th>\n",
       "      <td>1035</td>\n",
       "      <td>1218</td>\n",
       "      <td>6</td>\n",
       "      <td>2019-02-15</td>\n",
       "      <td>2019-01-03</td>\n",
       "      <td>2019-02-03</td>\n",
       "      <td>1</td>\n",
       "      <td>2019-01-20</td>\n",
       "      <td>0.0</td>\n",
       "      <td>2012-01-30</td>\n",
       "      <td>False</td>\n",
       "    </tr>\n",
       "    <tr>\n",
       "      <th>4608</th>\n",
       "      <td>1035</td>\n",
       "      <td>1218</td>\n",
       "      <td>8</td>\n",
       "      <td>2019-04-09</td>\n",
       "      <td>2019-03-16</td>\n",
       "      <td>2019-04-16</td>\n",
       "      <td>1</td>\n",
       "      <td>2019-04-02</td>\n",
       "      <td>0.0</td>\n",
       "      <td>2012-01-30</td>\n",
       "      <td>False</td>\n",
       "    </tr>\n",
       "    <tr>\n",
       "      <th>4701</th>\n",
       "      <td>1060</td>\n",
       "      <td>1249</td>\n",
       "      <td>5</td>\n",
       "      <td>2018-12-17</td>\n",
       "      <td>2018-12-15</td>\n",
       "      <td>2019-01-15</td>\n",
       "      <td>1</td>\n",
       "      <td>2019-01-01</td>\n",
       "      <td>0.0</td>\n",
       "      <td>2013-04-15</td>\n",
       "      <td>False</td>\n",
       "    </tr>\n",
       "    <tr>\n",
       "      <th>5038</th>\n",
       "      <td>1171</td>\n",
       "      <td>1379</td>\n",
       "      <td>2</td>\n",
       "      <td>2018-09-11</td>\n",
       "      <td>2018-09-09</td>\n",
       "      <td>2018-10-09</td>\n",
       "      <td>1</td>\n",
       "      <td>2018-09-25</td>\n",
       "      <td>0.0</td>\n",
       "      <td>2009-04-20</td>\n",
       "      <td>False</td>\n",
       "    </tr>\n",
       "    <tr>\n",
       "      <th>5472</th>\n",
       "      <td>1060</td>\n",
       "      <td>1554</td>\n",
       "      <td>2</td>\n",
       "      <td>2018-09-19</td>\n",
       "      <td>2018-09-16</td>\n",
       "      <td>2018-10-16</td>\n",
       "      <td>1</td>\n",
       "      <td>2018-10-02</td>\n",
       "      <td>0.0</td>\n",
       "      <td>2013-04-15</td>\n",
       "      <td>False</td>\n",
       "    </tr>\n",
       "    <tr>\n",
       "      <th>5475</th>\n",
       "      <td>1060</td>\n",
       "      <td>1554</td>\n",
       "      <td>5</td>\n",
       "      <td>2018-12-17</td>\n",
       "      <td>2018-12-16</td>\n",
       "      <td>2019-01-16</td>\n",
       "      <td>1</td>\n",
       "      <td>2019-01-02</td>\n",
       "      <td>0.0</td>\n",
       "      <td>2013-04-15</td>\n",
       "      <td>False</td>\n",
       "    </tr>\n",
       "    <tr>\n",
       "      <th>5476</th>\n",
       "      <td>1060</td>\n",
       "      <td>1554</td>\n",
       "      <td>6</td>\n",
       "      <td>2019-01-23</td>\n",
       "      <td>2019-01-16</td>\n",
       "      <td>2019-02-16</td>\n",
       "      <td>1</td>\n",
       "      <td>2019-02-02</td>\n",
       "      <td>0.0</td>\n",
       "      <td>2013-04-15</td>\n",
       "      <td>False</td>\n",
       "    </tr>\n",
       "    <tr>\n",
       "      <th>5477</th>\n",
       "      <td>1060</td>\n",
       "      <td>1554</td>\n",
       "      <td>7</td>\n",
       "      <td>2019-02-17</td>\n",
       "      <td>2019-02-16</td>\n",
       "      <td>2019-03-16</td>\n",
       "      <td>1</td>\n",
       "      <td>2019-03-02</td>\n",
       "      <td>0.0</td>\n",
       "      <td>2013-04-15</td>\n",
       "      <td>False</td>\n",
       "    </tr>\n",
       "    <tr>\n",
       "      <th>5478</th>\n",
       "      <td>1060</td>\n",
       "      <td>1554</td>\n",
       "      <td>8</td>\n",
       "      <td>2019-03-22</td>\n",
       "      <td>2019-03-16</td>\n",
       "      <td>2019-04-16</td>\n",
       "      <td>1</td>\n",
       "      <td>2019-04-02</td>\n",
       "      <td>1.0</td>\n",
       "      <td>2013-04-15</td>\n",
       "      <td>False</td>\n",
       "    </tr>\n",
       "    <tr>\n",
       "      <th>6071</th>\n",
       "      <td>1502</td>\n",
       "      <td>1796</td>\n",
       "      <td>6</td>\n",
       "      <td>2019-01-31</td>\n",
       "      <td>2019-01-28</td>\n",
       "      <td>2019-02-28</td>\n",
       "      <td>1</td>\n",
       "      <td>2019-02-14</td>\n",
       "      <td>0.0</td>\n",
       "      <td>2015-03-23</td>\n",
       "      <td>False</td>\n",
       "    </tr>\n",
       "    <tr>\n",
       "      <th>6072</th>\n",
       "      <td>1502</td>\n",
       "      <td>1796</td>\n",
       "      <td>7</td>\n",
       "      <td>2019-03-07</td>\n",
       "      <td>2019-03-01</td>\n",
       "      <td>2019-04-01</td>\n",
       "      <td>1</td>\n",
       "      <td>2019-03-18</td>\n",
       "      <td>1.0</td>\n",
       "      <td>2015-03-23</td>\n",
       "      <td>False</td>\n",
       "    </tr>\n",
       "    <tr>\n",
       "      <th>7083</th>\n",
       "      <td>1812</td>\n",
       "      <td>2213</td>\n",
       "      <td>0</td>\n",
       "      <td>2018-08-21</td>\n",
       "      <td>2018-08-20</td>\n",
       "      <td>2019-02-20</td>\n",
       "      <td>6</td>\n",
       "      <td>2019-02-06</td>\n",
       "      <td>1.0</td>\n",
       "      <td>2018-08-17</td>\n",
       "      <td>False</td>\n",
       "    </tr>\n",
       "    <tr>\n",
       "      <th>7967</th>\n",
       "      <td>2094</td>\n",
       "      <td>2630</td>\n",
       "      <td>1</td>\n",
       "      <td>2018-12-12</td>\n",
       "      <td>2018-12-05</td>\n",
       "      <td>2019-01-05</td>\n",
       "      <td>1</td>\n",
       "      <td>2018-12-22</td>\n",
       "      <td>1.0</td>\n",
       "      <td>2016-06-30</td>\n",
       "      <td>False</td>\n",
       "    </tr>\n",
       "    <tr>\n",
       "      <th>9434</th>\n",
       "      <td>2592</td>\n",
       "      <td>3340</td>\n",
       "      <td>1</td>\n",
       "      <td>2018-11-20</td>\n",
       "      <td>2018-11-11</td>\n",
       "      <td>2018-12-11</td>\n",
       "      <td>1</td>\n",
       "      <td>2018-11-27</td>\n",
       "      <td>0.0</td>\n",
       "      <td>2017-12-24</td>\n",
       "      <td>False</td>\n",
       "    </tr>\n",
       "  </tbody>\n",
       "</table>\n",
       "</div>"
      ],
      "text/plain": [
       "      user_id  service_id  nth_renewal   pay_date start_date expiration_date  \\\n",
       "25        111         130            0 2018-05-18 2018-05-17      2019-05-17   \n",
       "78        241         294            0 2018-06-22 2018-05-29      2019-05-29   \n",
       "79        241         295            0 2018-06-22 2018-05-29      2019-05-29   \n",
       "283      1035        1218            9 2019-05-03 2019-04-18      2019-05-18   \n",
       "562      2758        3566            6 2019-04-27 2019-04-22      2019-05-22   \n",
       "2129      126         145            4 2018-12-07 2018-11-22      2018-12-22   \n",
       "3316      616         738            4 2018-11-10 2018-10-10      2018-11-10   \n",
       "4605     1035        1218            5 2018-12-19 2018-12-01      2019-01-01   \n",
       "4606     1035        1218            6 2019-02-15 2019-01-03      2019-02-03   \n",
       "4608     1035        1218            8 2019-04-09 2019-03-16      2019-04-16   \n",
       "4701     1060        1249            5 2018-12-17 2018-12-15      2019-01-15   \n",
       "5038     1171        1379            2 2018-09-11 2018-09-09      2018-10-09   \n",
       "5472     1060        1554            2 2018-09-19 2018-09-16      2018-10-16   \n",
       "5475     1060        1554            5 2018-12-17 2018-12-16      2019-01-16   \n",
       "5476     1060        1554            6 2019-01-23 2019-01-16      2019-02-16   \n",
       "5477     1060        1554            7 2019-02-17 2019-02-16      2019-03-16   \n",
       "5478     1060        1554            8 2019-03-22 2019-03-16      2019-04-16   \n",
       "6071     1502        1796            6 2019-01-31 2019-01-28      2019-02-28   \n",
       "6072     1502        1796            7 2019-03-07 2019-03-01      2019-04-01   \n",
       "7083     1812        2213            0 2018-08-21 2018-08-20      2019-02-20   \n",
       "7967     2094        2630            1 2018-12-12 2018-12-05      2019-01-05   \n",
       "9434     2592        3340            1 2018-11-20 2018-11-11      2018-12-11   \n",
       "\n",
       "      amount    on_date  churn    regdate   test  \n",
       "25        12 2019-05-03    NaN 2017-07-25   True  \n",
       "78        12 2019-05-15    NaN 2015-05-12   True  \n",
       "79        12 2019-05-15    NaN 2015-05-12   True  \n",
       "283        1 2019-05-04    NaN 2012-01-30   True  \n",
       "562        1 2019-05-08    NaN 2013-11-24   True  \n",
       "2129       1 2018-12-08    0.0 2018-05-17  False  \n",
       "3316       1 2018-10-27    0.0 2018-05-24  False  \n",
       "4605       1 2018-12-18    0.0 2012-01-30  False  \n",
       "4606       1 2019-01-20    0.0 2012-01-30  False  \n",
       "4608       1 2019-04-02    0.0 2012-01-30  False  \n",
       "4701       1 2019-01-01    0.0 2013-04-15  False  \n",
       "5038       1 2018-09-25    0.0 2009-04-20  False  \n",
       "5472       1 2018-10-02    0.0 2013-04-15  False  \n",
       "5475       1 2019-01-02    0.0 2013-04-15  False  \n",
       "5476       1 2019-02-02    0.0 2013-04-15  False  \n",
       "5477       1 2019-03-02    0.0 2013-04-15  False  \n",
       "5478       1 2019-04-02    1.0 2013-04-15  False  \n",
       "6071       1 2019-02-14    0.0 2015-03-23  False  \n",
       "6072       1 2019-03-18    1.0 2015-03-23  False  \n",
       "7083       6 2019-02-06    1.0 2018-08-17  False  \n",
       "7967       1 2018-12-22    1.0 2016-06-30  False  \n",
       "9434       1 2018-11-27    0.0 2017-12-24  False  "
      ]
     },
     "execution_count": 13,
     "metadata": {},
     "output_type": "execute_result"
    }
   ],
   "source": [
    "df_history[df_history.start_date < df_history.pay_date]"
   ]
  },
  {
   "cell_type": "markdown",
   "metadata": {},
   "source": [
    "Интересно, в некоторых случаях услуга начинает действовать до оплаты. Баг? Пробный период? На всякий случай пометим такие случаи."
   ]
  },
  {
   "cell_type": "code",
   "execution_count": 14,
   "metadata": {},
   "outputs": [],
   "source": [
    "df_history['start_before_pay'] = df_history.start_date < df_history.pay_date"
   ]
  },
  {
   "cell_type": "code",
   "execution_count": 15,
   "metadata": {},
   "outputs": [
    {
     "data": {
      "text/plain": [
       "<matplotlib.legend.Legend at 0x2255cb7ba58>"
      ]
     },
     "execution_count": 15,
     "metadata": {},
     "output_type": "execute_result"
    },
    {
     "data": {
      "image/png": "[encoded data removed]",
      "text/plain": [
       "<Figure size 432x288 with 1 Axes>"
      ]
     },
     "metadata": {
      "needs_background": "light"
     },
     "output_type": "display_data"
    }
   ],
   "source": [
    "df_history[df_history.churn == 1.0].amount.plot.hist(label='Pos', density=True, alpha=0.3)\n",
    "df_history[df_history.churn == 0.0].amount.plot.hist(label='Neg', density=True, alpha=0.3)\n",
    "plt.legend()"
   ]
  },
  {
   "cell_type": "code",
   "execution_count": 16,
   "metadata": {},
   "outputs": [
    {
     "data": {
      "text/plain": [
       "<matplotlib.legend.Legend at 0x2255cbe25c0>"
      ]
     },
     "execution_count": 16,
     "metadata": {},
     "output_type": "execute_result"
    },
    {
     "data": {
      "image/png": "[encoded data removed]",
      "text/plain": [
       "<Figure size 432x288 with 1 Axes>"
      ]
     },
     "metadata": {
      "needs_background": "light"
     },
     "output_type": "display_data"
    }
   ],
   "source": [
    "df_history[df_history.churn == 1.0].nth_renewal.plot.hist(label='Pos', density=True, alpha=0.3)\n",
    "df_history[df_history.churn == 0.0].nth_renewal.plot.hist(label='Neg', density=True, alpha=0.3)\n",
    "plt.legend()"
   ]
  },
  {
   "cell_type": "code",
   "execution_count": 17,
   "metadata": {},
   "outputs": [
    {
     "data": {
      "text/plain": [
       "<matplotlib.axes._subplots.AxesSubplot at 0x2255cc5d0f0>"
      ]
     },
     "execution_count": 17,
     "metadata": {},
     "output_type": "execute_result"
    },
    {
     "data": {
      "image/png": "[encoded data removed]",
      "text/plain": [
       "<Figure size 432x288 with 1 Axes>"
      ]
     },
     "metadata": {
      "needs_background": "light"
     },
     "output_type": "display_data"
    }
   ],
   "source": [
    "sns.scatterplot(data=df_history, x='nth_renewal', y='amount', hue='churn', alpha=0.3)"
   ]
  },
  {
   "cell_type": "markdown",
   "metadata": {},
   "source": [
    "Визуально кажется, что большая часть \"оранжевых точек\" хорошо отделяется диагональной прямой. \"Повернем\" данные, чтобы классификатору было проще найти разделяющую поверхность."
   ]
  },
  {
   "cell_type": "code",
   "execution_count": 18,
   "metadata": {},
   "outputs": [],
   "source": [
    "df_history[\"amt_renewal\"] = df_history.amount - df_history.nth_renewal"
   ]
  },
  {
   "cell_type": "markdown",
   "metadata": {},
   "source": [
    "Сама по себе дата регистрации пользователя мало привлекательна для прогноза.Более интересно время, которое клиент пользуется сервисом.\n",
    "\n",
    "В большинстве случаев услуга начинает действовать в тот же день, когда была оплачена. Но иногда запуск услуги происходит позже. Судя по всему, это те случаи, когда клиент оплачивает следующий период до окончания текущего. Пометим такие случаи."
   ]
  },
  {
   "cell_type": "code",
   "execution_count": 19,
   "metadata": {},
   "outputs": [],
   "source": [
    "df_history[\"mounths_after_registration\"] = (df_history.on_date - df_history.regdate).dt.days // 30\n",
    "df_history[\"paid_in_advance\"] = (df_history.start_date > df_history.pay_date)"
   ]
  },
  {
   "cell_type": "code",
   "execution_count": 20,
   "metadata": {},
   "outputs": [
    {
     "data": {
      "text/plain": [
       "<matplotlib.axes._subplots.AxesSubplot at 0x2255cd3a438>"
      ]
     },
     "execution_count": 20,
     "metadata": {},
     "output_type": "execute_result"
    },
    {
     "data": {
      "image/png": "[encoded data removed]",
      "text/plain": [
       "<Figure size 432x288 with 1 Axes>"
      ]
     },
     "metadata": {
      "needs_background": "light"
     },
     "output_type": "display_data"
    }
   ],
   "source": [
    "df_history[\"month\"] = df_history.on_date.dt.month\n",
    "df_history.groupby(\"month\")['churn'].value_counts(normalize=True).unstack().plot.bar(stacked=True)"
   ]
  },
  {
   "cell_type": "markdown",
   "metadata": {},
   "source": [
    "При классификации может быть важной информация об изменении оплачиваемого периода. Если в первый раз пользователь оплатил 1 месяц, а во второй 12, значит скорее всего у него все хорошо и можно ожидать повторного продления. "
   ]
  },
  {
   "cell_type": "code",
   "execution_count": 21,
   "metadata": {},
   "outputs": [],
   "source": [
    "df_history['term_change'] = df_history.sort_values(by='nth_renewal')\\\n",
    "                                .groupby(['user_id', 'service_id'])['amount'].diff().fillna(0)"
   ]
  },
  {
   "cell_type": "markdown",
   "metadata": {},
   "source": [
    "Посчитаем отношение не продленных услуг ко всем услугам в некоторый период перед **on_date**. Так как продлить услугу можно в течение 60 дней после окончания ее срока действия, уберем из рассмотрения всю историю за 60 дней до **on_date**"
   ]
  },
  {
   "cell_type": "code",
   "execution_count": 22,
   "metadata": {},
   "outputs": [],
   "source": [
    "period_to_count_churn_rate = pd.Timedelta('180 days')\n",
    "prolong_period = pd.Timedelta('60 days')"
   ]
  },
  {
   "cell_type": "code",
   "execution_count": 23,
   "metadata": {},
   "outputs": [],
   "source": [
    "churns = df_history.sort_values(by='on_date').set_index('on_date').rolling('120d', min_periods=100)['churn'].sum()\n",
    "total_actions = df_history.sort_values(by='on_date').set_index('on_date').rolling('120d', min_periods=100)['churn'].count()\n",
    "\n",
    "nv_period_churns = df_history.sort_values(by='on_date').set_index('on_date').rolling('60d', min_periods=100)['churn'].sum()\n",
    "nv_period_total_actions = df_history.sort_values(by='on_date').set_index('on_date').rolling('60d', min_periods=100)['churn'].count()\n",
    "\n",
    "churns = churns - nv_period_churns\n",
    "total_actions = total_actions - nv_period_total_actions"
   ]
  },
  {
   "cell_type": "code",
   "execution_count": 24,
   "metadata": {},
   "outputs": [],
   "source": [
    "churn_rate = (churns / total_actions).fillna(-1)"
   ]
  },
  {
   "cell_type": "code",
   "execution_count": 25,
   "metadata": {},
   "outputs": [],
   "source": [
    "df_history['churn_rate'] = df_history.on_date.map(churn_rate.to_dict())"
   ]
  },
  {
   "cell_type": "code",
   "execution_count": 26,
   "metadata": {},
   "outputs": [
    {
     "data": {
      "text/plain": [
       "<matplotlib.legend.Legend at 0x2255c8d27b8>"
      ]
     },
     "execution_count": 26,
     "metadata": {},
     "output_type": "execute_result"
    },
    {
     "data": {
      "image/png": "[encoded data removed]",
      "text/plain": [
       "<Figure size 432x288 with 1 Axes>"
      ]
     },
     "metadata": {
      "needs_background": "light"
     },
     "output_type": "display_data"
    }
   ],
   "source": [
    "df_history[df_history.churn == 1.0].churn_rate.plot.hist(label='1', alpha=0.3, density=True)\n",
    "df_history[df_history.churn == 0.0].churn_rate.plot.hist(label='0', alpha=0.3, density=True)\n",
    "plt.legend()"
   ]
  },
  {
   "cell_type": "markdown",
   "metadata": {},
   "source": [
    "Узнаем сколько у пользователя активных услуг на момент проверки."
   ]
  },
  {
   "cell_type": "code",
   "execution_count": 27,
   "metadata": {},
   "outputs": [],
   "source": [
    "df_history['active_services'] = 0\n",
    "for date in df_history.on_date.unique():\n",
    "    temp_history = df_history[(df_history.start_date <= date) & (df_history.expiration_date > date)]\n",
    "    active_services = temp_history.groupby('user_id')['service_id'].count()\n",
    "    df_history.loc[df_history.on_date == date, 'active_services'] = \\\n",
    "                        df_history[df_history.on_date == date].user_id.map(active_services.to_dict())\n",
    "    del temp_history\n",
    "    del active_services"
   ]
  },
  {
   "cell_type": "markdown",
   "metadata": {},
   "source": [
    "А так же проверим, не уменьшилось ли их количество по сравнению с предыдущей проверкой."
   ]
  },
  {
   "cell_type": "code",
   "execution_count": 28,
   "metadata": {},
   "outputs": [],
   "source": [
    "df_history['active_services_change'] = df_history.sort_values(by='on_date')\\\n",
    "                                        .groupby('user_id')['active_services'].diff().fillna(0)"
   ]
  },
  {
   "cell_type": "code",
   "execution_count": 29,
   "metadata": {},
   "outputs": [
    {
     "data": {
      "text/html": [
       "<div>\n",
       "<style scoped>\n",
       "    .dataframe tbody tr th:only-of-type {\n",
       "        vertical-align: middle;\n",
       "    }\n",
       "\n",
       "    .dataframe tbody tr th {\n",
       "        vertical-align: top;\n",
       "    }\n",
       "\n",
       "    .dataframe thead th {\n",
       "        text-align: right;\n",
       "    }\n",
       "</style>\n",
       "<table border=\"1\" class=\"dataframe\">\n",
       "  <thead>\n",
       "    <tr style=\"text-align: right;\">\n",
       "      <th></th>\n",
       "      <th>user_id</th>\n",
       "      <th>service_id</th>\n",
       "      <th>nth_renewal</th>\n",
       "      <th>pay_date</th>\n",
       "      <th>start_date</th>\n",
       "      <th>expiration_date</th>\n",
       "      <th>amount</th>\n",
       "      <th>on_date</th>\n",
       "      <th>churn</th>\n",
       "      <th>regdate</th>\n",
       "      <th>test</th>\n",
       "      <th>start_before_pay</th>\n",
       "      <th>amt_renewal</th>\n",
       "      <th>mounths_after_registration</th>\n",
       "      <th>paid_in_advance</th>\n",
       "      <th>month</th>\n",
       "      <th>term_change</th>\n",
       "      <th>churn_rate</th>\n",
       "      <th>active_services</th>\n",
       "      <th>active_services_change</th>\n",
       "    </tr>\n",
       "  </thead>\n",
       "  <tbody>\n",
       "    <tr>\n",
       "      <th>5209</th>\n",
       "      <td>68</td>\n",
       "      <td>1450</td>\n",
       "      <td>0</td>\n",
       "      <td>2018-07-11</td>\n",
       "      <td>2018-07-11</td>\n",
       "      <td>2018-08-11</td>\n",
       "      <td>1</td>\n",
       "      <td>2018-07-28</td>\n",
       "      <td>1.0</td>\n",
       "      <td>2018-05-04</td>\n",
       "      <td>False</td>\n",
       "      <td>False</td>\n",
       "      <td>1</td>\n",
       "      <td>2</td>\n",
       "      <td>False</td>\n",
       "      <td>7</td>\n",
       "      <td>0.0</td>\n",
       "      <td>0.470588</td>\n",
       "      <td>2</td>\n",
       "      <td>0.0</td>\n",
       "    </tr>\n",
       "    <tr>\n",
       "      <th>6377</th>\n",
       "      <td>68</td>\n",
       "      <td>1930</td>\n",
       "      <td>0</td>\n",
       "      <td>2018-08-02</td>\n",
       "      <td>2018-08-02</td>\n",
       "      <td>2018-09-02</td>\n",
       "      <td>1</td>\n",
       "      <td>2018-08-19</td>\n",
       "      <td>0.0</td>\n",
       "      <td>2018-05-04</td>\n",
       "      <td>False</td>\n",
       "      <td>False</td>\n",
       "      <td>1</td>\n",
       "      <td>3</td>\n",
       "      <td>False</td>\n",
       "      <td>8</td>\n",
       "      <td>0.0</td>\n",
       "      <td>0.588235</td>\n",
       "      <td>3</td>\n",
       "      <td>1.0</td>\n",
       "    </tr>\n",
       "    <tr>\n",
       "      <th>6378</th>\n",
       "      <td>68</td>\n",
       "      <td>1930</td>\n",
       "      <td>1</td>\n",
       "      <td>2018-09-01</td>\n",
       "      <td>2018-09-02</td>\n",
       "      <td>2018-10-02</td>\n",
       "      <td>1</td>\n",
       "      <td>2018-09-18</td>\n",
       "      <td>0.0</td>\n",
       "      <td>2018-05-04</td>\n",
       "      <td>False</td>\n",
       "      <td>False</td>\n",
       "      <td>0</td>\n",
       "      <td>4</td>\n",
       "      <td>True</td>\n",
       "      <td>9</td>\n",
       "      <td>0.0</td>\n",
       "      <td>0.476000</td>\n",
       "      <td>4</td>\n",
       "      <td>1.0</td>\n",
       "    </tr>\n",
       "    <tr>\n",
       "      <th>6316</th>\n",
       "      <td>68</td>\n",
       "      <td>1904</td>\n",
       "      <td>0</td>\n",
       "      <td>2018-08-01</td>\n",
       "      <td>2018-08-01</td>\n",
       "      <td>2018-11-01</td>\n",
       "      <td>3</td>\n",
       "      <td>2018-10-18</td>\n",
       "      <td>1.0</td>\n",
       "      <td>2018-05-04</td>\n",
       "      <td>False</td>\n",
       "      <td>False</td>\n",
       "      <td>3</td>\n",
       "      <td>5</td>\n",
       "      <td>False</td>\n",
       "      <td>10</td>\n",
       "      <td>0.0</td>\n",
       "      <td>0.415159</td>\n",
       "      <td>4</td>\n",
       "      <td>0.0</td>\n",
       "    </tr>\n",
       "    <tr>\n",
       "      <th>7351</th>\n",
       "      <td>68</td>\n",
       "      <td>2341</td>\n",
       "      <td>0</td>\n",
       "      <td>2018-08-23</td>\n",
       "      <td>2018-08-23</td>\n",
       "      <td>2018-11-23</td>\n",
       "      <td>3</td>\n",
       "      <td>2018-11-09</td>\n",
       "      <td>0.0</td>\n",
       "      <td>2018-05-04</td>\n",
       "      <td>False</td>\n",
       "      <td>False</td>\n",
       "      <td>3</td>\n",
       "      <td>6</td>\n",
       "      <td>False</td>\n",
       "      <td>11</td>\n",
       "      <td>0.0</td>\n",
       "      <td>0.418075</td>\n",
       "      <td>3</td>\n",
       "      <td>-1.0</td>\n",
       "    </tr>\n",
       "    <tr>\n",
       "      <th>7352</th>\n",
       "      <td>68</td>\n",
       "      <td>2341</td>\n",
       "      <td>1</td>\n",
       "      <td>2018-11-23</td>\n",
       "      <td>2018-11-23</td>\n",
       "      <td>2018-12-23</td>\n",
       "      <td>1</td>\n",
       "      <td>2018-12-09</td>\n",
       "      <td>0.0</td>\n",
       "      <td>2018-05-04</td>\n",
       "      <td>False</td>\n",
       "      <td>False</td>\n",
       "      <td>0</td>\n",
       "      <td>7</td>\n",
       "      <td>False</td>\n",
       "      <td>12</td>\n",
       "      <td>-2.0</td>\n",
       "      <td>0.422094</td>\n",
       "      <td>3</td>\n",
       "      <td>0.0</td>\n",
       "    </tr>\n",
       "    <tr>\n",
       "      <th>6379</th>\n",
       "      <td>68</td>\n",
       "      <td>1930</td>\n",
       "      <td>2</td>\n",
       "      <td>2018-10-02</td>\n",
       "      <td>2018-10-02</td>\n",
       "      <td>2019-01-02</td>\n",
       "      <td>3</td>\n",
       "      <td>2018-12-19</td>\n",
       "      <td>1.0</td>\n",
       "      <td>2018-05-04</td>\n",
       "      <td>False</td>\n",
       "      <td>False</td>\n",
       "      <td>1</td>\n",
       "      <td>7</td>\n",
       "      <td>False</td>\n",
       "      <td>12</td>\n",
       "      <td>2.0</td>\n",
       "      <td>0.409519</td>\n",
       "      <td>3</td>\n",
       "      <td>0.0</td>\n",
       "    </tr>\n",
       "    <tr>\n",
       "      <th>7353</th>\n",
       "      <td>68</td>\n",
       "      <td>2341</td>\n",
       "      <td>2</td>\n",
       "      <td>2018-12-25</td>\n",
       "      <td>2018-12-25</td>\n",
       "      <td>2019-01-25</td>\n",
       "      <td>1</td>\n",
       "      <td>2019-01-11</td>\n",
       "      <td>1.0</td>\n",
       "      <td>2018-05-04</td>\n",
       "      <td>False</td>\n",
       "      <td>False</td>\n",
       "      <td>-1</td>\n",
       "      <td>8</td>\n",
       "      <td>False</td>\n",
       "      <td>1</td>\n",
       "      <td>0.0</td>\n",
       "      <td>0.390954</td>\n",
       "      <td>2</td>\n",
       "      <td>-1.0</td>\n",
       "    </tr>\n",
       "    <tr>\n",
       "      <th>14106</th>\n",
       "      <td>68</td>\n",
       "      <td>6547</td>\n",
       "      <td>0</td>\n",
       "      <td>2019-03-18</td>\n",
       "      <td>2019-03-18</td>\n",
       "      <td>2019-04-18</td>\n",
       "      <td>1</td>\n",
       "      <td>2019-04-04</td>\n",
       "      <td>1.0</td>\n",
       "      <td>2018-05-04</td>\n",
       "      <td>False</td>\n",
       "      <td>False</td>\n",
       "      <td>1</td>\n",
       "      <td>11</td>\n",
       "      <td>False</td>\n",
       "      <td>4</td>\n",
       "      <td>0.0</td>\n",
       "      <td>0.305901</td>\n",
       "      <td>2</td>\n",
       "      <td>0.0</td>\n",
       "    </tr>\n",
       "    <tr>\n",
       "      <th>10</th>\n",
       "      <td>68</td>\n",
       "      <td>76</td>\n",
       "      <td>0</td>\n",
       "      <td>2018-05-15</td>\n",
       "      <td>2018-05-15</td>\n",
       "      <td>2019-05-15</td>\n",
       "      <td>12</td>\n",
       "      <td>2019-05-01</td>\n",
       "      <td>NaN</td>\n",
       "      <td>2018-05-04</td>\n",
       "      <td>True</td>\n",
       "      <td>False</td>\n",
       "      <td>12</td>\n",
       "      <td>12</td>\n",
       "      <td>False</td>\n",
       "      <td>5</td>\n",
       "      <td>0.0</td>\n",
       "      <td>0.306204</td>\n",
       "      <td>1</td>\n",
       "      <td>-1.0</td>\n",
       "    </tr>\n",
       "  </tbody>\n",
       "</table>\n",
       "</div>"
      ],
      "text/plain": [
       "       user_id  service_id  nth_renewal   pay_date start_date expiration_date  \\\n",
       "5209        68        1450            0 2018-07-11 2018-07-11      2018-08-11   \n",
       "6377        68        1930            0 2018-08-02 2018-08-02      2018-09-02   \n",
       "6378        68        1930            1 2018-09-01 2018-09-02      2018-10-02   \n",
       "6316        68        1904            0 2018-08-01 2018-08-01      2018-11-01   \n",
       "7351        68        2341            0 2018-08-23 2018-08-23      2018-11-23   \n",
       "7352        68        2341            1 2018-11-23 2018-11-23      2018-12-23   \n",
       "6379        68        1930            2 2018-10-02 2018-10-02      2019-01-02   \n",
       "7353        68        2341            2 2018-12-25 2018-12-25      2019-01-25   \n",
       "14106       68        6547            0 2019-03-18 2019-03-18      2019-04-18   \n",
       "10          68          76            0 2018-05-15 2018-05-15      2019-05-15   \n",
       "\n",
       "       amount    on_date  churn    regdate   test  start_before_pay  \\\n",
       "5209        1 2018-07-28    1.0 2018-05-04  False             False   \n",
       "6377        1 2018-08-19    0.0 2018-05-04  False             False   \n",
       "6378        1 2018-09-18    0.0 2018-05-04  False             False   \n",
       "6316        3 2018-10-18    1.0 2018-05-04  False             False   \n",
       "7351        3 2018-11-09    0.0 2018-05-04  False             False   \n",
       "7352        1 2018-12-09    0.0 2018-05-04  False             False   \n",
       "6379        3 2018-12-19    1.0 2018-05-04  False             False   \n",
       "7353        1 2019-01-11    1.0 2018-05-04  False             False   \n",
       "14106       1 2019-04-04    1.0 2018-05-04  False             False   \n",
       "10         12 2019-05-01    NaN 2018-05-04   True             False   \n",
       "\n",
       "       amt_renewal  mounths_after_registration  paid_in_advance  month  \\\n",
       "5209             1                           2            False      7   \n",
       "6377             1                           3            False      8   \n",
       "6378             0                           4             True      9   \n",
       "6316             3                           5            False     10   \n",
       "7351             3                           6            False     11   \n",
       "7352             0                           7            False     12   \n",
       "6379             1                           7            False     12   \n",
       "7353            -1                           8            False      1   \n",
       "14106            1                          11            False      4   \n",
       "10              12                          12            False      5   \n",
       "\n",
       "       term_change  churn_rate  active_services  active_services_change  \n",
       "5209           0.0    0.470588                2                     0.0  \n",
       "6377           0.0    0.588235                3                     1.0  \n",
       "6378           0.0    0.476000                4                     1.0  \n",
       "6316           0.0    0.415159                4                     0.0  \n",
       "7351           0.0    0.418075                3                    -1.0  \n",
       "7352          -2.0    0.422094                3                     0.0  \n",
       "6379           2.0    0.409519                3                     0.0  \n",
       "7353           0.0    0.390954                2                    -1.0  \n",
       "14106          0.0    0.305901                2                     0.0  \n",
       "10             0.0    0.306204                1                    -1.0  "
      ]
     },
     "execution_count": 29,
     "metadata": {},
     "output_type": "execute_result"
    }
   ],
   "source": [
    "df_history[df_history.user_id == 68].sort_values(by='on_date')"
   ]
  },
  {
   "cell_type": "code",
   "execution_count": 30,
   "metadata": {},
   "outputs": [],
   "source": [
    "df_history = df_history\\\n",
    "    .sort_values([\"service_id\", \"pay_date\", \"start_date\"])\n",
    "df_history[\"cumsum_amount\"] = df_history.groupby(\"service_id\")['amount'].cumsum()"
   ]
  },
  {
   "cell_type": "code",
   "execution_count": 31,
   "metadata": {},
   "outputs": [],
   "source": [
    "used_cols = [\"nth_renewal\", \"cumsum_amount\", 'amount']\n",
    "target_col = \"churn\"\n",
    "\n",
    "X_train = df_history.query(\"~test\")[used_cols]\n",
    "y_train = df_history.query(\"~test\")[target_col] == 1.0\n",
    "\n",
    "X_test = df_history.query(\"test\")[used_cols] \n",
    "y_test = df_test[target_col] == True"
   ]
  },
  {
   "cell_type": "code",
   "execution_count": 46,
   "metadata": {},
   "outputs": [],
   "source": [
    "from sklearn.model_selection import GridSearchCV\n",
    "from sklearn.metrics import f1_score\n",
    "from sklearn.metrics import recall_score\n",
    "from sklearn.metrics import precision_score\n",
    "#from sklearn.preprocessing import LabelEncoder\n",
    "from sklearn.tree import DecisionTreeClassifier\n",
    "from sklearn.ensemble import RandomForestClassifier\n",
    "from sklearn.model_selection import StratifiedKFold"
   ]
  },
  {
   "cell_type": "markdown",
   "metadata": {},
   "source": [
    "Для начала построим классификатор только  на тех колонках, которые были в задании. \n",
    "\n",
    "Посчитаем **f1-score** на тестовой выборке. Это будет базовым уровнем. "
   ]
  },
  {
   "cell_type": "code",
   "execution_count": 33,
   "metadata": {},
   "outputs": [
    {
     "data": {
      "text/plain": [
       "DecisionTreeClassifier(class_weight=None, criterion='gini', max_depth=4,\n",
       "            max_features=None, max_leaf_nodes=None,\n",
       "            min_impurity_decrease=0.0, min_impurity_split=None,\n",
       "            min_samples_leaf=20, min_samples_split=100,\n",
       "            min_weight_fraction_leaf=0.0, presort=False, random_state=None,\n",
       "            splitter='best')"
      ]
     },
     "execution_count": 33,
     "metadata": {},
     "output_type": "execute_result"
    }
   ],
   "source": [
    "clf = DecisionTreeClassifier(max_depth=4, min_samples_split=100, min_samples_leaf=20)\n",
    "clf.fit(X_train, y_train)"
   ]
  },
  {
   "cell_type": "code",
   "execution_count": 34,
   "metadata": {},
   "outputs": [
    {
     "name": "stdout",
     "output_type": "stream",
     "text": [
      "Baseline classifier score: 0.6181254841208366\n"
     ]
    }
   ],
   "source": [
    "predicted = clf.predict(X_test)\n",
    "print(\"Baseline classifier score: {}\".format(f1_score(y_test, predicted)))"
   ]
  },
  {
   "cell_type": "markdown",
   "metadata": {},
   "source": [
    "Теперь посмотрим, что будет, если использовать все доступные данные. Хотя идентификаторы и даты не особо полезны."
   ]
  },
  {
   "cell_type": "code",
   "execution_count": 35,
   "metadata": {},
   "outputs": [],
   "source": [
    "cols_to_drop = ['user_id', 'service_id', 'pay_date', 'start_date', 'expiration_date', 'on_date', 'regdate', 'churn', 'test']\n",
    "target_col = \"churn\"\n",
    "\n",
    "X_train = df_history.query(\"~test\").drop(cols_to_drop, axis=1)\n",
    "y_train = df_history.query(\"~test\")[target_col] == 1.0\n",
    "\n",
    "X_test = df_history.query(\"test\").drop(cols_to_drop, axis=1)\n",
    "y_test = df_test[target_col] == True"
   ]
  },
  {
   "cell_type": "code",
   "execution_count": 36,
   "metadata": {},
   "outputs": [
    {
     "data": {
      "text/plain": [
       "DecisionTreeClassifier(class_weight=None, criterion='gini', max_depth=4,\n",
       "            max_features=None, max_leaf_nodes=None,\n",
       "            min_impurity_decrease=0.0, min_impurity_split=None,\n",
       "            min_samples_leaf=20, min_samples_split=100,\n",
       "            min_weight_fraction_leaf=0.0, presort=False, random_state=None,\n",
       "            splitter='best')"
      ]
     },
     "execution_count": 36,
     "metadata": {},
     "output_type": "execute_result"
    }
   ],
   "source": [
    "clf = DecisionTreeClassifier(max_depth=4, min_samples_split=100, min_samples_leaf=20)\n",
    "clf.fit(X_train, y_train)"
   ]
  },
  {
   "cell_type": "code",
   "execution_count": 37,
   "metadata": {},
   "outputs": [
    {
     "name": "stdout",
     "output_type": "stream",
     "text": [
      "Classifier score: 0.6592544146500982\n"
     ]
    }
   ],
   "source": [
    "predicted = clf.predict(X_test)\n",
    "print(\"Classifier score: {}\".format(f1_score(y_test, predicted)))"
   ]
  },
  {
   "cell_type": "markdown",
   "metadata": {},
   "source": [
    "Попробуем взять только наиболее важные переменные. Возможно оставшиеся только привносят шум. "
   ]
  },
  {
   "cell_type": "code",
   "execution_count": 38,
   "metadata": {},
   "outputs": [
    {
     "data": {
      "text/plain": [
       "<matplotlib.axes._subplots.AxesSubplot at 0x2255d86d4e0>"
      ]
     },
     "execution_count": 38,
     "metadata": {},
     "output_type": "execute_result"
    },
    {
     "data": {
      "image/png": "[encoded data removed]",
      "text/plain": [
       "<Figure size 432x288 with 1 Axes>"
      ]
     },
     "metadata": {
      "needs_background": "light"
     },
     "output_type": "display_data"
    }
   ],
   "source": [
    "feature_importances = pd.Series(clf.feature_importances_, index=X_train.columns).sort_values()\n",
    "feature_importances.plot.barh()"
   ]
  },
  {
   "cell_type": "code",
   "execution_count": 39,
   "metadata": {},
   "outputs": [],
   "source": [
    "most_important_features = feature_importances[-3:].index"
   ]
  },
  {
   "cell_type": "code",
   "execution_count": 40,
   "metadata": {},
   "outputs": [
    {
     "data": {
      "text/plain": [
       "DecisionTreeClassifier(class_weight=None, criterion='gini', max_depth=6,\n",
       "            max_features=None, max_leaf_nodes=None,\n",
       "            min_impurity_decrease=0.0, min_impurity_split=None,\n",
       "            min_samples_leaf=20, min_samples_split=100,\n",
       "            min_weight_fraction_leaf=0.0, presort=False, random_state=None,\n",
       "            splitter='best')"
      ]
     },
     "execution_count": 40,
     "metadata": {},
     "output_type": "execute_result"
    }
   ],
   "source": [
    "clf = DecisionTreeClassifier(max_depth=6, min_samples_split=100, min_samples_leaf=20)\n",
    "clf.fit(X_train[most_important_features], y_train)"
   ]
  },
  {
   "cell_type": "code",
   "execution_count": 41,
   "metadata": {},
   "outputs": [
    {
     "name": "stdout",
     "output_type": "stream",
     "text": [
      "Classifier score: 0.6617250673854448\n"
     ]
    }
   ],
   "source": [
    "predicted = clf.predict(X_test[most_important_features])\n",
    "print(\"Classifier score: {}\".format(f1_score(y_test, predicted)))"
   ]
  },
  {
   "cell_type": "markdown",
   "metadata": {},
   "source": [
    "Подберем параметры с помощью k-кратной перекрестной проверки. Используем StratifiedKFold, чтобы гарантировать одинаковое соотношение классов во всех частях."
   ]
  },
  {
   "cell_type": "code",
   "execution_count": 42,
   "metadata": {},
   "outputs": [],
   "source": [
    "clf = DecisionTreeClassifier()\n",
    "params = {'max_depth': [2, 4, 6, 8],\n",
    "         'min_samples_split': [20, 30, 50, 70, 90],\n",
    "         'min_samples_leaf': [2, 5, 10, 15, 30, 50]}\n",
    "grid = GridSearchCV(clf, params, scoring='f1', verbose=1, cv=StratifiedKFold(n_splits=5, shuffle=True))"
   ]
  },
  {
   "cell_type": "code",
   "execution_count": 43,
   "metadata": {},
   "outputs": [
    {
     "name": "stdout",
     "output_type": "stream",
     "text": [
      "Fitting 5 folds for each of 120 candidates, totalling 600 fits\n"
     ]
    },
    {
     "name": "stderr",
     "output_type": "stream",
     "text": [
      "[Parallel(n_jobs=1)]: Using backend SequentialBackend with 1 concurrent workers.\n"
     ]
    },
    {
     "name": "stdout",
     "output_type": "stream",
     "text": [
      "Classifier score: 0.6809616634178038\n"
     ]
    },
    {
     "name": "stderr",
     "output_type": "stream",
     "text": [
      "[Parallel(n_jobs=1)]: Done 600 out of 600 | elapsed:    7.0s finished\n"
     ]
    }
   ],
   "source": [
    "grid.fit(X_train[most_important_features], y_train)\n",
    "predicted = grid.predict(X_test[most_important_features])\n",
    "print(\"Classifier score: {}\".format(f1_score(y_test, predicted)))"
   ]
  },
  {
   "cell_type": "markdown",
   "metadata": {},
   "source": [
    "Так как данные, на которых проводили оценку классификатора не встречались ему при обучении и при подборе параметров, то можно ожидать, что на новых данных результат будет примерно такой же."
   ]
  },
  {
   "cell_type": "code",
   "execution_count": 44,
   "metadata": {},
   "outputs": [
    {
     "data": {
      "text/plain": [
       "{'max_depth': 2, 'min_samples_leaf': 2, 'min_samples_split': 20}"
      ]
     },
     "execution_count": 44,
     "metadata": {},
     "output_type": "execute_result"
    }
   ],
   "source": [
    "grid.best_params_"
   ]
  },
  {
   "cell_type": "code",
   "execution_count": 45,
   "metadata": {},
   "outputs": [
    {
     "data": {
      "image/svg+xml": [
       "<svg height=\"269pt\" viewBox=\"0.00 0.00 569.00 269.00\" width=\"569pt\" xmlns=\"http://www.w3.org/2000/svg\" xmlns:xlink=\"http://www.w3.org/1999/xlink\">\n",
       "<g class=\"graph\" id=\"graph0\" transform=\"scale(1 1) rotate(0) translate(4 265)\">\n",
       "<title>Tree</title>\n",
       "<polygon fill=\"white\" points=\"-4,4 -4,-265 565,-265 565,4 -4,4\" stroke=\"none\"/>\n",
       "<!-- 0 -->\n",
       "<g class=\"node\" id=\"node1\"><title>0</title>\n",
       "<polygon fill=\"#e58139\" fill-opacity=\"0.427451\" points=\"345,-261 214,-261 214,-193 345,-193 345,-261\" stroke=\"black\"/>\n",
       "<text font-family=\"Times New Roman,serif\" font-size=\"14.00\" text-anchor=\"middle\" x=\"279.5\" y=\"-245.8\">nth_renewal &lt;= 0.5</text>\n",
       "<text font-family=\"Times New Roman,serif\" font-size=\"14.00\" text-anchor=\"middle\" x=\"279.5\" y=\"-230.8\">gini = 0.463</text>\n",
       "<text font-family=\"Times New Roman,serif\" font-size=\"14.00\" text-anchor=\"middle\" x=\"279.5\" y=\"-215.8\">samples = 12653</text>\n",
       "<text font-family=\"Times New Roman,serif\" font-size=\"14.00\" text-anchor=\"middle\" x=\"279.5\" y=\"-200.8\">value = [8049, 4604]</text>\n",
       "</g>\n",
       "<!-- 1 -->\n",
       "<g class=\"node\" id=\"node2\"><title>1</title>\n",
       "<polygon fill=\"#399de5\" fill-opacity=\"0.211765\" points=\"268,-157 125,-157 125,-89 268,-89 268,-157\" stroke=\"black\"/>\n",
       "<text font-family=\"Times New Roman,serif\" font-size=\"14.00\" text-anchor=\"middle\" x=\"196.5\" y=\"-141.8\">active_services &lt;= 6.5</text>\n",
       "<text font-family=\"Times New Roman,serif\" font-size=\"14.00\" text-anchor=\"middle\" x=\"196.5\" y=\"-126.8\">gini = 0.493</text>\n",
       "<text font-family=\"Times New Roman,serif\" font-size=\"14.00\" text-anchor=\"middle\" x=\"196.5\" y=\"-111.8\">samples = 6413</text>\n",
       "<text font-family=\"Times New Roman,serif\" font-size=\"14.00\" text-anchor=\"middle\" x=\"196.5\" y=\"-96.8\">value = [2823, 3590]</text>\n",
       "</g>\n",
       "<!-- 0&#45;&gt;1 -->\n",
       "<g class=\"edge\" id=\"edge1\"><title>0-&gt;1</title>\n",
       "<path d=\"M252.552,-192.884C245.377,-184.065 237.536,-174.43 230.054,-165.235\" fill=\"none\" stroke=\"black\"/>\n",
       "<polygon fill=\"black\" points=\"232.623,-162.847 223.597,-157.299 227.193,-167.265 232.623,-162.847\" stroke=\"black\"/>\n",
       "<text font-family=\"Times New Roman,serif\" font-size=\"14.00\" text-anchor=\"middle\" x=\"221.042\" y=\"-178.469\">True</text>\n",
       "</g>\n",
       "<!-- 4 -->\n",
       "<g class=\"node\" id=\"node5\"><title>4</title>\n",
       "<polygon fill=\"#e58139\" fill-opacity=\"0.807843\" points=\"438.5,-157 286.5,-157 286.5,-89 438.5,-89 438.5,-157\" stroke=\"black\"/>\n",
       "<text font-family=\"Times New Roman,serif\" font-size=\"14.00\" text-anchor=\"middle\" x=\"362.5\" y=\"-141.8\">paid_in_advance &lt;= 0.5</text>\n",
       "<text font-family=\"Times New Roman,serif\" font-size=\"14.00\" text-anchor=\"middle\" x=\"362.5\" y=\"-126.8\">gini = 0.272</text>\n",
       "<text font-family=\"Times New Roman,serif\" font-size=\"14.00\" text-anchor=\"middle\" x=\"362.5\" y=\"-111.8\">samples = 6240</text>\n",
       "<text font-family=\"Times New Roman,serif\" font-size=\"14.00\" text-anchor=\"middle\" x=\"362.5\" y=\"-96.8\">value = [5226, 1014]</text>\n",
       "</g>\n",
       "<!-- 0&#45;&gt;4 -->\n",
       "<g class=\"edge\" id=\"edge4\"><title>0-&gt;4</title>\n",
       "<path d=\"M306.448,-192.884C313.623,-184.065 321.464,-174.43 328.946,-165.235\" fill=\"none\" stroke=\"black\"/>\n",
       "<polygon fill=\"black\" points=\"331.807,-167.265 335.403,-157.299 326.377,-162.847 331.807,-167.265\" stroke=\"black\"/>\n",
       "<text font-family=\"Times New Roman,serif\" font-size=\"14.00\" text-anchor=\"middle\" x=\"337.958\" y=\"-178.469\">False</text>\n",
       "</g>\n",
       "<!-- 2 -->\n",
       "<g class=\"node\" id=\"node3\"><title>2</title>\n",
       "<polygon fill=\"#399de5\" fill-opacity=\"0.074510\" points=\"131,-53 0,-53 0,-0 131,-0 131,-53\" stroke=\"black\"/>\n",
       "<text font-family=\"Times New Roman,serif\" font-size=\"14.00\" text-anchor=\"middle\" x=\"65.5\" y=\"-37.8\">gini = 0.499</text>\n",
       "<text font-family=\"Times New Roman,serif\" font-size=\"14.00\" text-anchor=\"middle\" x=\"65.5\" y=\"-22.8\">samples = 5736</text>\n",
       "<text font-family=\"Times New Roman,serif\" font-size=\"14.00\" text-anchor=\"middle\" x=\"65.5\" y=\"-7.8\">value = [2758, 2978]</text>\n",
       "</g>\n",
       "<!-- 1&#45;&gt;2 -->\n",
       "<g class=\"edge\" id=\"edge2\"><title>1-&gt;2</title>\n",
       "<path d=\"M150.683,-88.9485C137.367,-79.3431 122.855,-68.8747 109.645,-59.345\" fill=\"none\" stroke=\"black\"/>\n",
       "<polygon fill=\"black\" points=\"111.335,-56.2486 101.177,-53.2367 107.24,-61.9257 111.335,-56.2486\" stroke=\"black\"/>\n",
       "</g>\n",
       "<!-- 3 -->\n",
       "<g class=\"node\" id=\"node4\"><title>3</title>\n",
       "<polygon fill=\"#399de5\" fill-opacity=\"0.894118\" points=\"260,-53 149,-53 149,-0 260,-0 260,-53\" stroke=\"black\"/>\n",
       "<text font-family=\"Times New Roman,serif\" font-size=\"14.00\" text-anchor=\"middle\" x=\"204.5\" y=\"-37.8\">gini = 0.174</text>\n",
       "<text font-family=\"Times New Roman,serif\" font-size=\"14.00\" text-anchor=\"middle\" x=\"204.5\" y=\"-22.8\">samples = 677</text>\n",
       "<text font-family=\"Times New Roman,serif\" font-size=\"14.00\" text-anchor=\"middle\" x=\"204.5\" y=\"-7.8\">value = [65, 612]</text>\n",
       "</g>\n",
       "<!-- 1&#45;&gt;3 -->\n",
       "<g class=\"edge\" id=\"edge3\"><title>1-&gt;3</title>\n",
       "<path d=\"M199.298,-88.9485C200.003,-80.6238 200.762,-71.6509 201.478,-63.2027\" fill=\"none\" stroke=\"black\"/>\n",
       "<polygon fill=\"black\" points=\"204.965,-63.4963 202.321,-53.2367 197.99,-62.9058 204.965,-63.4963\" stroke=\"black\"/>\n",
       "</g>\n",
       "<!-- 5 -->\n",
       "<g class=\"node\" id=\"node6\"><title>5</title>\n",
       "<polygon fill=\"#e58139\" fill-opacity=\"0.698039\" points=\"418,-53 293,-53 293,-0 418,-0 418,-53\" stroke=\"black\"/>\n",
       "<text font-family=\"Times New Roman,serif\" font-size=\"14.00\" text-anchor=\"middle\" x=\"355.5\" y=\"-37.8\">gini = 0.357</text>\n",
       "<text font-family=\"Times New Roman,serif\" font-size=\"14.00\" text-anchor=\"middle\" x=\"355.5\" y=\"-22.8\">samples = 2392</text>\n",
       "<text font-family=\"Times New Roman,serif\" font-size=\"14.00\" text-anchor=\"middle\" x=\"355.5\" y=\"-7.8\">value = [1835, 557]</text>\n",
       "</g>\n",
       "<!-- 4&#45;&gt;5 -->\n",
       "<g class=\"edge\" id=\"edge5\"><title>4-&gt;5</title>\n",
       "<path d=\"M360.052,-88.9485C359.442,-80.7153 358.785,-71.848 358.165,-63.4814\" fill=\"none\" stroke=\"black\"/>\n",
       "<polygon fill=\"black\" points=\"361.636,-62.9508 357.406,-53.2367 354.655,-63.468 361.636,-62.9508\" stroke=\"black\"/>\n",
       "</g>\n",
       "<!-- 6 -->\n",
       "<g class=\"node\" id=\"node7\"><title>6</title>\n",
       "<polygon fill=\"#e58139\" fill-opacity=\"0.866667\" points=\"561,-53 436,-53 436,-0 561,-0 561,-53\" stroke=\"black\"/>\n",
       "<text font-family=\"Times New Roman,serif\" font-size=\"14.00\" text-anchor=\"middle\" x=\"498.5\" y=\"-37.8\">gini = 0.209</text>\n",
       "<text font-family=\"Times New Roman,serif\" font-size=\"14.00\" text-anchor=\"middle\" x=\"498.5\" y=\"-22.8\">samples = 3848</text>\n",
       "<text font-family=\"Times New Roman,serif\" font-size=\"14.00\" text-anchor=\"middle\" x=\"498.5\" y=\"-7.8\">value = [3391, 457]</text>\n",
       "</g>\n",
       "<!-- 4&#45;&gt;6 -->\n",
       "<g class=\"edge\" id=\"edge6\"><title>4-&gt;6</title>\n",
       "<path d=\"M410.066,-88.9485C424.022,-79.2516 439.243,-68.6752 453.062,-59.073\" fill=\"none\" stroke=\"black\"/>\n",
       "<polygon fill=\"black\" points=\"455.246,-61.8172 461.461,-53.2367 451.252,-56.0687 455.246,-61.8172\" stroke=\"black\"/>\n",
       "</g>\n",
       "</g>\n",
       "</svg>"
      ],
      "text/plain": [
       "<IPython.core.display.SVG object>"
      ]
     },
     "metadata": {},
     "output_type": "display_data"
    }
   ],
   "source": [
    "from sklearn import tree\n",
    "from IPython.display import SVG, display, Image\n",
    "from graphviz import Source\n",
    "\n",
    "\n",
    "graph = Source(tree.export_graphviz(grid.best_estimator_, out_file=None, feature_names=list(X_train[most_important_features]), filled=True))\n",
    "display(SVG(graph.pipe(format='svg')))"
   ]
  },
  {
   "cell_type": "code",
   "execution_count": 47,
   "metadata": {},
   "outputs": [
    {
     "data": {
      "text/plain": [
       "0.592090395480226"
      ]
     },
     "execution_count": 47,
     "metadata": {},
     "output_type": "execute_result"
    }
   ],
   "source": [
    "precision_score(y_test, predicted)"
   ]
  },
  {
   "cell_type": "code",
   "execution_count": 48,
   "metadata": {},
   "outputs": [
    {
     "data": {
      "text/plain": [
       "0.8012232415902141"
      ]
     },
     "execution_count": 48,
     "metadata": {},
     "output_type": "execute_result"
    }
   ],
   "source": [
    "recall_score(y_test, predicted)"
   ]
  },
  {
   "cell_type": "code",
   "execution_count": null,
   "metadata": {},
   "outputs": [],
   "source": []
  }
 ],
 "metadata": {
  "kernelspec": {
   "display_name": "Python 3",
   "language": "python",
   "name": "python3"
  },
  "language_info": {
   "codemirror_mode": {
    "name": "ipython",
    "version": 3
   },
   "file_extension": ".py",
   "mimetype": "text/x-python",
   "name": "python",
   "nbconvert_exporter": "python",
   "pygments_lexer": "ipython3",
   "version": "3.7.3"
  }
 },
 "nbformat": 4,
 "nbformat_minor": 2
}
